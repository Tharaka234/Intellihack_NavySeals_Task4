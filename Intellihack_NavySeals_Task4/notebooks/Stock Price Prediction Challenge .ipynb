{
 "cells": [
  {
   "cell_type": "code",
   "execution_count": 5,
   "id": "7eced528-4938-4162-8f77-b0dae3882857",
   "metadata": {},
   "outputs": [
    {
     "name": "stdout",
     "output_type": "stream",
     "text": [
      "First 5 rows of the dataset:\n",
      "   Unnamed: 0        Date  Adj Close     Close      High       Low      Open  \\\n",
      "0           0  1980-03-17   2.296798  3.291227  3.344743  3.291227  0.000000   \n",
      "1           1  1980-03-18   2.306134  3.304606  3.358122  3.304606  0.000000   \n",
      "2           2  1980-03-19   2.306134  3.304606  3.304606  3.304606  3.304606   \n",
      "3           3  1980-03-20   2.306134  3.304606  3.358122  3.304606  0.000000   \n",
      "4           4  1980-03-21   2.362154  3.384880  3.438396  3.384880  0.000000   \n",
      "\n",
      "    Volume  \n",
      "0  41109.0  \n",
      "1   9343.0  \n",
      "2      0.0  \n",
      "3  10277.0  \n",
      "4   8409.0  \n",
      "\n",
      "Missing values:\n",
      "Unnamed: 0      0\n",
      "Date          110\n",
      "Adj Close      93\n",
      "Close         117\n",
      "High           95\n",
      "Low           127\n",
      "Open          103\n",
      "Volume        145\n",
      "dtype: int64\n"
     ]
    },
    {
     "name": "stderr",
     "output_type": "stream",
     "text": [
      "<>:4: SyntaxWarning: invalid escape sequence '\\I'\n",
      "<>:4: SyntaxWarning: invalid escape sequence '\\I'\n",
      "C:\\Users\\thara\\AppData\\Local\\Temp\\ipykernel_9796\\239436450.py:4: SyntaxWarning: invalid escape sequence '\\I'\n",
      "  url = \"D:\\Intellihack_Weather_Forecasting/data/question4-stock-data.csv\"  # Replace with the actual file name or full path\n"
     ]
    }
   ],
   "source": [
    "import pandas as pd\n",
    "\n",
    "# Step 1: Load the dataset\n",
    "url = \"D:\\Intellihack_Weather_Forecasting/data/question4-stock-data.csv\"  # Replace with the actual file name or full path\n",
    "df = pd.read_csv(url)\n",
    "\n",
    "# Step 2: Verify the dataset\n",
    "print(\"First 5 rows of the dataset:\")\n",
    "print(df.head())\n",
    "\n",
    "# Step 3: Check for missing values\n",
    "print(\"\\nMissing values:\")\n",
    "print(df.isnull().sum())"
   ]
  },
  {
   "cell_type": "code",
   "execution_count": 6,
   "id": "959d08c9-06bf-470b-9324-6b25a37e3e0e",
   "metadata": {},
   "outputs": [
    {
     "name": "stdout",
     "output_type": "stream",
     "text": [
      "Unnamed: 0      0\n",
      "Date          110\n",
      "Adj Close      93\n",
      "Close         117\n",
      "High           95\n",
      "Low           127\n",
      "Open          103\n",
      "Volume        145\n",
      "dtype: int64\n"
     ]
    }
   ],
   "source": [
    "# Check for missing values\n",
    "print(df.isnull().sum())"
   ]
  },
  {
   "cell_type": "code",
   "execution_count": 7,
   "id": "e0dfbdd4-6692-4834-9d9d-7f6ddd53aeb5",
   "metadata": {},
   "outputs": [
    {
     "name": "stdout",
     "output_type": "stream",
     "text": [
      "         Unnamed: 0     Adj Close         Close          High           Low  \\\n",
      "count  11291.000000  11198.000000  11174.000000  11196.000000  11164.000000   \n",
      "mean    5645.000000     63.609130     72.026945     72.503100     71.665079   \n",
      "std     3259.575279     52.266247     51.259828     51.550735     51.011632   \n",
      "min        0.000000      2.259452      3.237711      3.237711      3.237711   \n",
      "25%     2822.500000     19.224636     27.500000     27.789255     27.536156   \n",
      "50%     5645.000000     50.608900     66.035000     66.724998     65.418751   \n",
      "75%     8467.500000    104.723621    114.297503    114.892500    113.639999   \n",
      "max    11290.000000    254.770004    254.770004    255.229996    253.589996   \n",
      "\n",
      "               Open        Volume  \n",
      "count  11188.000000  1.114600e+04  \n",
      "mean      67.999259  2.144157e+05  \n",
      "std       55.834401  3.883662e+05  \n",
      "min        0.000000  0.000000e+00  \n",
      "25%        0.000000  1.350000e+04  \n",
      "50%       66.065002  9.032350e+04  \n",
      "75%      114.269997  2.915750e+05  \n",
      "max      255.000000  1.858270e+07  \n"
     ]
    }
   ],
   "source": [
    "# Summary statistics\n",
    "print(df.describe())"
   ]
  },
  {
   "cell_type": "code",
   "execution_count": 13,
   "id": "c996bab3-3435-4442-93c1-af389d45debb",
   "metadata": {},
   "outputs": [
    {
     "ename": "ModuleNotFoundError",
     "evalue": "No module named 'statsmodels'",
     "output_type": "error",
     "traceback": [
      "\u001b[31m---------------------------------------------------------------------------\u001b[39m",
      "\u001b[31mModuleNotFoundError\u001b[39m                       Traceback (most recent call last)",
      "\u001b[36mCell\u001b[39m\u001b[36m \u001b[39m\u001b[32mIn[13]\u001b[39m\u001b[32m, line 2\u001b[39m\n\u001b[32m      1\u001b[39m \u001b[38;5;66;03m# Decompose the time series to observe trends and seasonality\u001b[39;00m\n\u001b[32m----> \u001b[39m\u001b[32m2\u001b[39m \u001b[38;5;28;01mfrom\u001b[39;00m\u001b[38;5;250m \u001b[39m\u001b[34;01mstatsmodels\u001b[39;00m\u001b[34;01m.\u001b[39;00m\u001b[34;01mtsa\u001b[39;00m\u001b[34;01m.\u001b[39;00m\u001b[34;01mseasonal\u001b[39;00m\u001b[38;5;250m \u001b[39m\u001b[38;5;28;01mimport\u001b[39;00m seasonal_decompose\n\u001b[32m      4\u001b[39m \u001b[38;5;66;03m# Ensure the Date column is in datetime format\u001b[39;00m\n\u001b[32m      5\u001b[39m df[\u001b[33m'\u001b[39m\u001b[33mDate\u001b[39m\u001b[33m'\u001b[39m] = pd.to_datetime(df[\u001b[33m'\u001b[39m\u001b[33mDate\u001b[39m\u001b[33m'\u001b[39m])\n",
      "\u001b[31mModuleNotFoundError\u001b[39m: No module named 'statsmodels'"
     ]
    }
   ],
   "source": [
    "# Decompose the time series to observe trends and seasonality\n",
    "from statsmodels.tsa.seasonal import seasonal_decompose\n",
    "\n",
    "# Ensure the Date column is in datetime format\n",
    "df['Date'] = pd.to_datetime(df['Date'])\n",
    "df.set_index('Date', inplace=True)\n",
    "\n",
    "# Decompose the time series\n",
    "decomposition = seasonal_decompose(df['Close'], period=30)  # Assuming a monthly seasonality\n",
    "decomposition.plot()\n",
    "plt.show()"
   ]
  },
  {
   "cell_type": "code",
   "execution_count": 17,
   "id": "ac6e32c5-805c-49d8-9140-dae6638c1212",
   "metadata": {},
   "outputs": [],
   "source": [
    "# Create lag features for the past 5 days\n",
    "for i in range(1, 6):\n",
    "    df[f'Lag_{i}'] = df['Close'].shift(i)\n",
    "\n",
    "# Drop rows with NaN values (due to lag features)\n",
    "df.dropna(inplace=True)"
   ]
  },
  {
   "cell_type": "code",
   "execution_count": 18,
   "id": "b2e6db3c-190b-4374-af8b-9e5b06178b78",
   "metadata": {},
   "outputs": [],
   "source": [
    "# Create moving averages\n",
    "df['MA_7'] = df['Close'].rolling(window=7).mean()  # 7-day moving average\n",
    "df['MA_30'] = df['Close'].rolling(window=30).mean()  # 30-day moving average\n",
    "\n",
    "# Drop rows with NaN values (due to moving averages)\n",
    "df.dropna(inplace=True)"
   ]
  },
  {
   "cell_type": "code",
   "execution_count": 19,
   "id": "3e32339d-4720-4059-a52c-aaed4d24a5b5",
   "metadata": {},
   "outputs": [],
   "source": [
    "# Create moving averages\n",
    "df['MA_7'] = df['Close'].rolling(window=7).mean()  # 7-day moving average\n",
    "df['MA_30'] = df['Close'].rolling(window=30).mean()  # 30-day moving average\n",
    "\n",
    "# Drop rows with NaN values (due to moving averages)\n",
    "df.dropna(inplace=True)"
   ]
  },
  {
   "cell_type": "code",
   "execution_count": 20,
   "id": "0cac0206-f423-4e65-9239-e6d61fa33f16",
   "metadata": {},
   "outputs": [
    {
     "ename": "ModuleNotFoundError",
     "evalue": "No module named 'sklearn'",
     "output_type": "error",
     "traceback": [
      "\u001b[31m---------------------------------------------------------------------------\u001b[39m",
      "\u001b[31mModuleNotFoundError\u001b[39m                       Traceback (most recent call last)",
      "\u001b[36mCell\u001b[39m\u001b[36m \u001b[39m\u001b[32mIn[20]\u001b[39m\u001b[32m, line 1\u001b[39m\n\u001b[32m----> \u001b[39m\u001b[32m1\u001b[39m \u001b[38;5;28;01mfrom\u001b[39;00m\u001b[38;5;250m \u001b[39m\u001b[34;01msklearn\u001b[39;00m\u001b[34;01m.\u001b[39;00m\u001b[34;01mmodel_selection\u001b[39;00m\u001b[38;5;250m \u001b[39m\u001b[38;5;28;01mimport\u001b[39;00m train_test_split\n\u001b[32m      3\u001b[39m \u001b[38;5;66;03m# Define features (X) and target (y)\u001b[39;00m\n\u001b[32m      4\u001b[39m X = df.drop([\u001b[33m'\u001b[39m\u001b[33mClose\u001b[39m\u001b[33m'\u001b[39m], axis=\u001b[32m1\u001b[39m)\n",
      "\u001b[31mModuleNotFoundError\u001b[39m: No module named 'sklearn'"
     ]
    }
   ],
   "source": [
    "from sklearn.model_selection import train_test_split\n",
    "\n",
    "# Define features (X) and target (y)\n",
    "X = df.drop(['Close'], axis=1)\n",
    "y = df['Close']\n",
    "\n",
    "# Split the data into training and testing sets\n",
    "X_train, X_test, y_train, y_test = train_test_split(X, y, test_size=0.2, random_state=42)\n"
   ]
  },
  {
   "cell_type": "code",
   "execution_count": 21,
   "id": "a888266c-0682-461b-ae2b-2588a9333c39",
   "metadata": {},
   "outputs": [
    {
     "ename": "ModuleNotFoundError",
     "evalue": "No module named 'xgboost'",
     "output_type": "error",
     "traceback": [
      "\u001b[31m---------------------------------------------------------------------------\u001b[39m",
      "\u001b[31mModuleNotFoundError\u001b[39m                       Traceback (most recent call last)",
      "\u001b[36mCell\u001b[39m\u001b[36m \u001b[39m\u001b[32mIn[21]\u001b[39m\u001b[32m, line 1\u001b[39m\n\u001b[32m----> \u001b[39m\u001b[32m1\u001b[39m \u001b[38;5;28;01mfrom\u001b[39;00m\u001b[38;5;250m \u001b[39m\u001b[34;01mxgboost\u001b[39;00m\u001b[38;5;250m \u001b[39m\u001b[38;5;28;01mimport\u001b[39;00m XGBRegressor\n\u001b[32m      2\u001b[39m \u001b[38;5;28;01mfrom\u001b[39;00m\u001b[38;5;250m \u001b[39m\u001b[34;01msklearn\u001b[39;00m\u001b[34;01m.\u001b[39;00m\u001b[34;01mmetrics\u001b[39;00m\u001b[38;5;250m \u001b[39m\u001b[38;5;28;01mimport\u001b[39;00m mean_squared_error\n\u001b[32m      4\u001b[39m \u001b[38;5;66;03m# Train an XGBoost model\u001b[39;00m\n",
      "\u001b[31mModuleNotFoundError\u001b[39m: No module named 'xgboost'"
     ]
    }
   ],
   "source": [
    "from xgboost import XGBRegressor\n",
    "from sklearn.metrics import mean_squared_error\n",
    "\n",
    "# Train an XGBoost model\n",
    "model = XGBRegressor(n_estimators=100, learning_rate=0.1, random_state=42)\n",
    "model.fit(X_train, y_train)\n",
    "\n",
    "# Make predictions\n",
    "y_pred = model.predict(X_test)\n",
    "\n",
    "# Evaluate the model\n",
    "rmse = mean_squared_error(y_test, y_pred, squared=False)\n",
    "print(f\"RMSE: {rmse}\")"
   ]
  },
  {
   "cell_type": "code",
   "execution_count": 22,
   "id": "981befc2-ffc6-498f-bbe0-8bafa55990f7",
   "metadata": {},
   "outputs": [
    {
     "ename": "NameError",
     "evalue": "name 'np' is not defined",
     "output_type": "error",
     "traceback": [
      "\u001b[31m---------------------------------------------------------------------------\u001b[39m",
      "\u001b[31mNameError\u001b[39m                                 Traceback (most recent call last)",
      "\u001b[36mCell\u001b[39m\u001b[36m \u001b[39m\u001b[32mIn[22]\u001b[39m\u001b[32m, line 2\u001b[39m\n\u001b[32m      1\u001b[39m \u001b[38;5;66;03m# Calculate directional accuracy\u001b[39;00m\n\u001b[32m----> \u001b[39m\u001b[32m2\u001b[39m directional_accuracy = \u001b[43mnp\u001b[49m.mean(np.sign(y_pred) == np.sign(y_test))\n\u001b[32m      3\u001b[39m \u001b[38;5;28mprint\u001b[39m(\u001b[33mf\u001b[39m\u001b[33m\"\u001b[39m\u001b[33mDirectional Accuracy: \u001b[39m\u001b[38;5;132;01m{\u001b[39;00mdirectional_accuracy\u001b[38;5;132;01m}\u001b[39;00m\u001b[33m\"\u001b[39m)\n",
      "\u001b[31mNameError\u001b[39m: name 'np' is not defined"
     ]
    }
   ],
   "source": [
    "# Calculate directional accuracy\n",
    "directional_accuracy = np.mean(np.sign(y_pred) == np.sign(y_test))\n",
    "print(f\"Directional Accuracy: {directional_accuracy}\")"
   ]
  },
  {
   "cell_type": "code",
   "execution_count": 23,
   "id": "4bee654a-4785-4d80-a87a-90b8c66ab04d",
   "metadata": {},
   "outputs": [
    {
     "ename": "NameError",
     "evalue": "name 'X_test' is not defined",
     "output_type": "error",
     "traceback": [
      "\u001b[31m---------------------------------------------------------------------------\u001b[39m",
      "\u001b[31mNameError\u001b[39m                                 Traceback (most recent call last)",
      "\u001b[36mCell\u001b[39m\u001b[36m \u001b[39m\u001b[32mIn[23]\u001b[39m\u001b[32m, line 2\u001b[39m\n\u001b[32m      1\u001b[39m \u001b[38;5;66;03m# Simulate trading performance\u001b[39;00m\n\u001b[32m----> \u001b[39m\u001b[32m2\u001b[39m df_test = \u001b[43mX_test\u001b[49m.copy()\n\u001b[32m      3\u001b[39m df_test[\u001b[33m'\u001b[39m\u001b[33mActual\u001b[39m\u001b[33m'\u001b[39m] = y_test\n\u001b[32m      4\u001b[39m df_test[\u001b[33m'\u001b[39m\u001b[33mPredicted\u001b[39m\u001b[33m'\u001b[39m] = y_pred\n",
      "\u001b[31mNameError\u001b[39m: name 'X_test' is not defined"
     ]
    }
   ],
   "source": [
    "# Simulate trading performance\n",
    "df_test = X_test.copy()\n",
    "df_test['Actual'] = y_test\n",
    "df_test['Predicted'] = y_pred\n",
    "df_test['Return'] = df_test['Actual'].pct_change()\n",
    "df_test['Strategy'] = df_test['Predicted'].pct_change()\n",
    "\n",
    "# Calculate cumulative returns\n",
    "df_test['Cumulative_Actual'] = (1 + df_test['Return']).cumprod()\n",
    "df_test['Cumulative_Strategy'] = (1 + df_test['Strategy']).cumprod()\n",
    "\n",
    "# Plot cumulative returns\n",
    "plt.figure(figsize=(10, 6))\n",
    "plt.plot(df_test['Cumulative_Actual'], label='Actual Returns')\n",
    "plt.plot(df_test['Cumulative_Strategy'], label='Strategy Returns')\n",
    "plt.title('Simulated Trading Performance')\n",
    "plt.xlabel('Date')\n",
    "plt.ylabel('Cumulative Returns')\n",
    "plt.legend()\n",
    "plt.show()"
   ]
  },
  {
   "cell_type": "code",
   "execution_count": 24,
   "id": "50290e3b-926a-4c5a-80ad-8daab648044e",
   "metadata": {},
   "outputs": [
    {
     "ename": "SyntaxError",
     "evalue": "invalid non-printable character U+00A0 (3663936872.py, line 2)",
     "output_type": "error",
     "traceback": [
      "  \u001b[36mCell\u001b[39m\u001b[36m \u001b[39m\u001b[32mIn[24]\u001b[39m\u001b[32m, line 2\u001b[39m\n\u001b[31m    \u001b[39m\u001b[31mdf_test[['Actual', 'Predicted']].to_csv('stock_predictions.csv', index=False)\u001b[39m\n                                                                    ^\n\u001b[31mSyntaxError\u001b[39m\u001b[31m:\u001b[39m invalid non-printable character U+00A0\n"
     ]
    }
   ],
   "source": [
    "# Save predictions to a CSV file\n",
    "df_test[['Actual', 'Predicted']].to_csv('stock_predictions.csv', index=False)"
   ]
  },
  {
   "cell_type": "code",
   "execution_count": null,
   "id": "c9929c0f-5849-4a50-a6f0-8e20861c1d38",
   "metadata": {},
   "outputs": [],
   "source": []
  }
 ],
 "metadata": {
  "kernelspec": {
   "display_name": "Python 3 (ipykernel)",
   "language": "python",
   "name": "python3"
  },
  "language_info": {
   "codemirror_mode": {
    "name": "ipython",
    "version": 3
   },
   "file_extension": ".py",
   "mimetype": "text/x-python",
   "name": "python",
   "nbconvert_exporter": "python",
   "pygments_lexer": "ipython3",
   "version": "3.13.2"
  }
 },
 "nbformat": 4,
 "nbformat_minor": 5
}
